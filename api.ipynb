{
 "cells": [
  {
   "cell_type": "code",
   "execution_count": 2,
   "metadata": {
    "ExecuteTime": {
     "end_time": "2023-12-13T21:53:22.521807356Z",
     "start_time": "2023-12-13T21:53:22.454146291Z"
    }
   },
   "outputs": [],
   "source": [
    "from dotenv import load_dotenv"
   ]
  },
  {
   "cell_type": "code",
   "execution_count": 11,
   "metadata": {},
   "outputs": [
    {
     "name": "stdout",
     "output_type": "stream",
     "text": [
      "Searching for \"Bad Blood\" by Taylor Swift...\n",
      "Done.\n",
      "Searching for \"thank u next\" by Ariana Grande...\n",
      "Done.\n",
      "Der Text wurde in 'lyrics.txt' geschrieben.\n"
     ]
    }
   ],
   "source": [
    "import lyricsgenius\n",
    "token=os.getenv('API_TOKEN_LYRICS')\n",
    "genius = lyricsgenius.Genius(token)\n",
    "artist=[\"Taylor Swift\",\"Ariana Grande\"]\n",
    "title=[\"Bad Blood\",\"thank u next\"]\n",
    "with open(\"lyrics.txt\", \"a\", encoding=\"utf-8\") as file:\n",
    "    for i in range(len(artist)):\n",
    "        song = genius.search_song(title[i], artist[i])\n",
    "        file.write(song.lyrics + \"\\n\\n\")\n",
    "print(\"Der Text wurde in 'lyrics.txt' geschrieben.\")"
   ]
  },
  {
   "cell_type": "code",
   "execution_count": 7,
   "metadata": {},
   "outputs": [
    {
     "ename": "SyntaxError",
     "evalue": "invalid syntax (4114199333.py, line 1)",
     "output_type": "error",
     "traceback": [
      "\u001B[1;36m  Cell \u001B[1;32mIn[7], line 1\u001B[1;36m\u001B[0m\n\u001B[1;33m    python3 -m lyricsgenius song \"Bad Blood\" \"Taylor Swift\" --save\u001B[0m\n\u001B[1;37m               ^\u001B[0m\n\u001B[1;31mSyntaxError\u001B[0m\u001B[1;31m:\u001B[0m invalid syntax\n"
     ]
    }
   ],
   "source": [
    "#client_id: XNml-JfCG2k2PQhnYbbia51atrYqRkavWgC15TnIjQKbSorXelxIHf-DQxFPN338\n",
    "#client_secret: 87LfJPnQqEO-moe2P2Ws33QQxLIYzN5-hHEVfh8MPVzS2i1oKrO4e7hLrsnbMm-D60ZyC0HljklNKbPXqud--A\n",
    "#access_token: 6xrqHt2ZppD-SdbMqQ5B9laiT8euhaSVPPO0brh5rhuJjmfcxbhAjvH-1l_mBxfQ"
   ]
  }
 ],
 "metadata": {
  "kernelspec": {
   "display_name": "dscb230",
   "language": "python",
   "name": "python3"
  },
  "language_info": {
   "codemirror_mode": {
    "name": "ipython",
    "version": 3
   },
   "file_extension": ".py",
   "mimetype": "text/x-python",
   "name": "python",
   "nbconvert_exporter": "python",
   "pygments_lexer": "ipython3",
   "version": "3.11.5"
  }
 },
 "nbformat": 4,
 "nbformat_minor": 2
}
