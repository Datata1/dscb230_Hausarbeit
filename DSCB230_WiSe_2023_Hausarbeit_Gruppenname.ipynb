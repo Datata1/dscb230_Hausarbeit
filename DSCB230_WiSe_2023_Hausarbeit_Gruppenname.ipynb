{
 "cells": [
  {
   "cell_type": "markdown",
   "id": "48b3f54c-3ed1-407e-ab25-5fbf84acdc1b",
   "metadata": {},
   "source": [
    "__DSCB230 Wintersemster 2023/24__\n",
    "# Hausarbeit - Datenauswertung am Beispiel eines Business-Anwendungsfalls"
   ]
  },
  {
   "cell_type": "markdown",
   "id": "d486d432-bd92-485e-8f25-9d6f19208480",
   "metadata": {},
   "source": [
    "## Lernziele\n",
    "1. Einblick in die Arbeitsweise agiler Projekte\n",
    "2. Erfahrungen in der arbeitsteiligen Gruppenarbeit\n",
    "3. Erheben und Realisieren von Anforderungen\n",
    "4. Durchführen einer Datenauswertung\n",
    "5. Präsentieren der Ergebnisse mit anschließendem fachlichen Gedankenaustausch (Kolloquium)"
   ]
  },
  {
   "cell_type": "markdown",
   "id": "28da700c-e714-447a-933a-1c67c1e4d169",
   "metadata": {},
   "source": [
    "## Lehrinhalte\n",
    "1. Business Case finden\n",
    "2. Datenerfassung und Data Engineering\n",
    "3. Datenmodellierung\n",
    "4. Datenvisualisierung\n",
    "5. Storytelling"
   ]
  },
  {
   "cell_type": "markdown",
   "id": "68929315-1123-471b-80ac-55dbe38d4575",
   "metadata": {},
   "source": [
    "## Ablauf\n",
    "- [Gruppeneinteilung](https://bwsyncandshare.kit.edu/s/iiqRzMRp4BynjYi)\n",
    "- Kick-off\n",
    "- Statusmeetings 1-4\n",
    "- Präsentation, Lessons Learned, Abgabe in ILIAS"
   ]
  },
  {
   "cell_type": "markdown",
   "id": "08a5d9d6-5ea3-4534-ac7f-418ca3dbbf6e",
   "metadata": {},
   "source": [
    "### Kick-off (Projekt-Start)\n",
    "\n",
    "Ziele: Lernziele besprechen. Erwartungen klarstellen. Durchführung besprechen."
   ]
  },
  {
   "cell_type": "markdown",
   "id": "99ac9d8d-cd6f-4e4e-aaf7-3c7bc5d5dd38",
   "metadata": {},
   "source": [
    "### Statusmeetings (Sprint-Reviews)\n",
    "\n",
    "Ziel: Es geht hauptsächlich um die Art und Weise der Zusammenarbeit, um Herausforderungen und Verbesserungsmöglichkeiten.\n",
    "\n",
    "__Leitfragen:__\n",
    "- Dinge, die gut gelungen sind.\n",
    "- Dinge, die weniger gut gelaufen sind.\n",
    "- Dinge, die man direkt stoppen sollte.\n",
    "- Aspekte, die man ausprobieren könnte."
   ]
  },
  {
   "cell_type": "markdown",
   "id": "0ddc70c6-3c59-425f-8263-79ca535a1962",
   "metadata": {},
   "source": [
    "### Lessons Learned (Projekt-Review)\n",
    "\n",
    "Ziele: Gewonnene Erkenntnisse für die Beurteilung der Arbeitsergebnisse festhalten.\n",
    "\n",
    "Vorbereitung: Die Gruppe setzt sich zusammen, um wertvolle Erfahrungen zu identifizieren, sie zu analysieren und aus ihnen zu lernen.\n",
    "\n",
    "__Leitfragen:__\n",
    "- Was waren die angenehmsten Dinge?\n",
    "- Welches Problem bzw. welche Probleme sind aufgetreten?\n",
    "- Wie wurde mit Problemen und Unklarheiten umgegangen?\n",
    "- Welche Lösung wurde verwendet?\n",
    "- Welche Probleme konnten, nach eigenem Ermessen, besonders gut gelöst werden?\n",
    "- Welche Ergebnisse der Datenauswertung waren überraschend?\n",
    "- Welche Erkenntnisse konnten durch die Datenauswertung gewonnen werden?\n",
    "- Welche ihrer Erwartungen an die Erkenntnisse der Datenauswertung weichen ab?\n",
    "- Wie bewerten Sie selbst ihre Ergebnisse?\n",
    "- Welche Erwartung an die Hausarbeit wurde nicht erfüllt?"
   ]
  },
  {
   "cell_type": "markdown",
   "id": "a0786cf7-b241-4f10-a7af-08eb0a07b7f7",
   "metadata": {},
   "source": [
    "## Aufgabenstellung\n",
    "\n",
    "- Führen Sie eine Datenauswertung durch.\n",
    "- Orientieren Sie sich an den Beispielen und den Übungen aus der Vorlesung.\n",
    "- Dokumentieren Sie Ihre Arbeit in diesem Jupter Notebook. Abweichungen in andere Tools oder Anwendungen sind in Absprache mit dem Dozent möglich.\n",
    "- Verwenden Sie die [Markdown](https://www.markdownguide.org/cheat-sheet/)-Syntax, um Ihre Arbeit leserlich zu gestalten."
   ]
  },
  {
   "cell_type": "markdown",
   "id": "54d1fd8f-461e-4d1a-bcee-c81d92ed488e",
   "metadata": {},
   "source": [
    "## Abschlusspräsentation\n",
    "\n",
    "- Termine, siehe [Gruppeneinteilung](https://bwsyncandshare.kit.edu/s/iiqRzMRp4BynjYi)\n",
    "- Dauer ca. 15 min\n",
    "- Ablauf:\n",
    "    - Gruppe präsentiert ihre Datenauswertung im Plenum\n",
    "    - Mündliche Wiedergabe der __vorbereiteten__ Lessons Learned\n",
    "    - Upload aller Dokumete in ILIAS als Zip-Archiv mit der Bezeichnung `DSCB230_WiSe23_Hausarbeit_Gruppenname.zip`\n"
   ]
  },
  {
   "cell_type": "markdown",
   "id": "17e6b63f-2f04-4b47-bd44-dd5ea2832fd8",
   "metadata": {
    "tags": []
   },
   "source": [
    "## Bewertung\n",
    "\n",
    "Maximal 9 Punkte (10% der Klausurpunkte) als Startwert für die Klausur. Die Punkte erhalten alle Gruppenmitglieder. Sollte eine differenzierte Bewertung gewünscht sein, sprechen Sie bitte den Dozent an."
   ]
  },
  {
   "cell_type": "markdown",
   "id": "6568db5d-3f71-476b-8a65-2c4ae6c0d625",
   "metadata": {},
   "source": [
    "## Vorlage für Ihr Jupyter Notebook\n",
    "Sie können die nachfolgende Inhaltsstruktur verwenden bzw. sich an ihr orientieren."
   ]
  },
  {
   "cell_type": "markdown",
   "id": "aaec91a7-5b05-44c0-98f0-7f73a9461f89",
   "metadata": {},
   "source": [
    "__DSCB230 Wintersemster 2023/24__\n",
    "\n",
    "# Titel\n",
    "Untertitel"
   ]
  },
  {
   "cell_type": "markdown",
   "id": "69b205aa-24e5-4d1a-a410-9cebab4c0844",
   "metadata": {},
   "source": [
    "Gruppe | Studierende 1 | Studierende 2 | Studierende 3 |\n",
    "------ | ------ | ------ | ------ |\n",
    "`Gruppenname` | `Vorname Name` | `Vorname Name` | `Vorname Name` |"
   ]
  },
  {
   "cell_type": "markdown",
   "id": "1f379b61-3b1f-469a-a873-5021229aa033",
   "metadata": {},
   "source": [
    "## Business Case"
   ]
  },
  {
   "cell_type": "markdown",
   "id": "903810eb-3de1-4efc-8167-1dfe6584e5ac",
   "metadata": {},
   "source": [
    "Analysieren der amerikanischen Charts, in Hinblick auf die Genre und die genutzten Wörter.\n",
    "Stimmt es, dass die Charts immer langenweiliger werden, also immer weniger Genre in den Charts vorhanden sind?\n",
    "Werden die modernen Lieder immer gelwattätiger und voller Beleidigungen?"
   ]
  },
  {
   "cell_type": "markdown",
   "id": "ec75d1c5-3c7b-4488-8db6-c003a3cde4ed",
   "metadata": {},
   "source": [
    "### Datenerfassung und Data Engineering"
   ]
  },
  {
   "cell_type": "markdown",
   "id": "72f4f0fd-519c-4a2d-a6f8-fd99d9e012e7",
   "metadata": {},
   "source": [
    "Zuerst wird durch eine API-Abfrage von der Billboard-API die Top 100 der letzten 30 Jahre heruntergeladen. Die Ergebnisse wurden dann in einem dafür erstellten Ordner in Form einer csv Datei abgelegt."
   ]
  },
  {
   "cell_type": "code",
   "execution_count": null,
   "metadata": {},
   "outputs": [],
   "source": [
    "# import os\n",
    "# import requests\n",
    "# import csv\n",
    "\n",
    "# # Erstelle einen Ordner für die CSV-Dateien\n",
    "# unterordner_name = \"Billboard_Top_100_csv\"\n",
    "# os.makedirs(unterordner_name)\n",
    "\n",
    "# # Wir iterieren über die Jahre, um Unterordner anzulegen und jeden zu unterscheiden\n",
    "# for i in range(32):\n",
    "#     jahr = 1990 + i\n",
    "#     csv_datei_pfad = os.path.join(unterordner_name, f'{jahr}.csv')\n",
    "\n",
    "#     url = \"https://billboard-api2.p.rapidapi.com/year-end-chart/hot-100-songs\"\n",
    "    \n",
    "#     querystring = {\"year\": str(jahr)}\n",
    "\n",
    "#     headers = {\n",
    "#         \"X-RapidAPI-Key\": os.getenv('API_TOKEN'),\n",
    "#         \"X-RapidAPI-Host\": os.getenv('API_HOST')\n",
    "#     }\n",
    "\n",
    "#     # Anfrage an die API senden\n",
    "#     response = requests.get(url, headers=headers, params=querystring)\n",
    "\n",
    "#     if response.status_code == 200:\n",
    "#         data = response.json()\n",
    "\n",
    "#         # CSV-Datei schreiben\n",
    "#         with open(csv_datei_pfad, mode='w', newline='', encoding='utf-8') as file:\n",
    "#             writer = csv.writer(file)\n",
    "\n",
    "#             # Schreibe die Kopfzeile\n",
    "#             writer.writerow([\"Position\", \"Artist\", \"Title\"])\n",
    "\n",
    "#             # Schreibe die Daten in die CSV-Datei\n",
    "#             for position, eintrag in data[\"content\"].items():\n",
    "#                 writer.writerow([eintrag[\"rank\"],eintrag[\"artist\"],eintrag[\"title\"]])"
   ],
   "id": "6fce5e84c90eb924"
  },
  {
   "cell_type": "markdown",
   "metadata": {},
   "source": [
    "Da diese Abfrage jedoch Geld kostet, haben wir von anderen bereitgestellten CSV-Dateien, heruntergeladen von 1990 bis 2015 und dann durch eigens erstellte CSV-Dateien ergänzt. Zudem haben wir Stichprobenartig die vom Internet heruntergeladenen Dateien überprüft.\n",
    "Quelle: https://github.com/kevinschaich/billboard/tree/master/data/years (zuletzt aufgerufen: 20.11.2023 14:44)"
   ],
   "id": "6f174956933bf44"
  },
  {
   "cell_type": "markdown",
   "metadata": {},
   "source": [
    "Um Informationen zu den einzelnen Liedern zu bekommen, haben wir eine andere API-benutzt, mit Hilfe der CSV-Dateien aus der ersten Abfrage."
   ],
   "id": "841e359f85e984"
  },
  {
   "cell_type": "code",
   "execution_count": 27,
   "metadata": {},
   "outputs": [
    {
     "name": "stdout",
     "output_type": "stream",
     "text": [
      "Die Daten wurden in 'D.json' als JSON-Datei gespeichert.\n",
      "Die Daten wurden in 'o.json' als JSON-Datei gespeichert.\n",
      "Die Daten wurden in 'n.json' als JSON-Datei gespeichert.\n",
      "Die Daten wurden in ''.json' als JSON-Datei gespeichert.\n",
      "Die Daten wurden in 't.json' als JSON-Datei gespeichert.\n",
      "Die Daten wurden in ' .json' als JSON-Datei gespeichert.\n"
     ]
    },
    {
     "ename": "KeyboardInterrupt",
     "evalue": "",
     "output_type": "error",
     "traceback": [
      "\u001B[1;31m---------------------------------------------------------------------------\u001B[0m",
      "\u001B[1;31mKeyboardInterrupt\u001B[0m                         Traceback (most recent call last)",
      "\u001B[1;32mc:\\Users\\test\\CodeStudium\\Hausarbeit\\DSCB230_WiSe_2023_Hausarbeit_Gruppenname.ipynb Cell 21\u001B[0m line \u001B[0;36m8\n\u001B[0;32m     <a href='vscode-notebook-cell:/c%3A/Users/test/CodeStudium/Hausarbeit/DSCB230_WiSe_2023_Hausarbeit_Gruppenname.ipynb#X26sZmlsZQ%3D%3D?line=76'>77</a>\u001B[0m headers \u001B[39m=\u001B[39m {\n\u001B[0;32m     <a href='vscode-notebook-cell:/c%3A/Users/test/CodeStudium/Hausarbeit/DSCB230_WiSe_2023_Hausarbeit_Gruppenname.ipynb#X26sZmlsZQ%3D%3D?line=77'>78</a>\u001B[0m     \u001B[39m\"\u001B[39m\u001B[39mX-RapidAPI-Key\u001B[39m\u001B[39m\"\u001B[39m: \u001B[39m\"\u001B[39m\u001B[39mefb193ae9fmsh0ccf4ee211d91f1p1e328cjsn0957c54e32c6\u001B[39m\u001B[39m\"\u001B[39m,\n\u001B[0;32m     <a href='vscode-notebook-cell:/c%3A/Users/test/CodeStudium/Hausarbeit/DSCB230_WiSe_2023_Hausarbeit_Gruppenname.ipynb#X26sZmlsZQ%3D%3D?line=78'>79</a>\u001B[0m     \u001B[39m\"\u001B[39m\u001B[39mX-RapidAPI-Host\u001B[39m\u001B[39m\"\u001B[39m: \u001B[39m\"\u001B[39m\u001B[39mtheaudiodb.p.rapidapi.com\u001B[39m\u001B[39m\"\u001B[39m\n\u001B[0;32m     <a href='vscode-notebook-cell:/c%3A/Users/test/CodeStudium/Hausarbeit/DSCB230_WiSe_2023_Hausarbeit_Gruppenname.ipynb#X26sZmlsZQ%3D%3D?line=79'>80</a>\u001B[0m         }\n\u001B[0;32m     <a href='vscode-notebook-cell:/c%3A/Users/test/CodeStudium/Hausarbeit/DSCB230_WiSe_2023_Hausarbeit_Gruppenname.ipynb#X26sZmlsZQ%3D%3D?line=81'>82</a>\u001B[0m \u001B[39m#es wird die API-Abfrage durchgeführt\u001B[39;00m\n\u001B[1;32m---> <a href='vscode-notebook-cell:/c%3A/Users/test/CodeStudium/Hausarbeit/DSCB230_WiSe_2023_Hausarbeit_Gruppenname.ipynb#X26sZmlsZQ%3D%3D?line=82'>83</a>\u001B[0m response \u001B[39m=\u001B[39m requests\u001B[39m.\u001B[39mget(url, headers\u001B[39m=\u001B[39mheaders, params\u001B[39m=\u001B[39mquerystring)\n\u001B[0;32m     <a href='vscode-notebook-cell:/c%3A/Users/test/CodeStudium/Hausarbeit/DSCB230_WiSe_2023_Hausarbeit_Gruppenname.ipynb#X26sZmlsZQ%3D%3D?line=86'>87</a>\u001B[0m \u001B[39m# Überprüfe, ob die Anfrage erfolgreich war\u001B[39;00m\n\u001B[0;32m     <a href='vscode-notebook-cell:/c%3A/Users/test/CodeStudium/Hausarbeit/DSCB230_WiSe_2023_Hausarbeit_Gruppenname.ipynb#X26sZmlsZQ%3D%3D?line=87'>88</a>\u001B[0m \u001B[39mif\u001B[39;00m response\u001B[39m.\u001B[39mstatus_code \u001B[39m==\u001B[39m \u001B[39m200\u001B[39m:\n\u001B[0;32m     <a href='vscode-notebook-cell:/c%3A/Users/test/CodeStudium/Hausarbeit/DSCB230_WiSe_2023_Hausarbeit_Gruppenname.ipynb#X26sZmlsZQ%3D%3D?line=88'>89</a>\u001B[0m \u001B[39m# der Name der json Datei wird festgelegt\u001B[39;00m\n",
      "File \u001B[1;32mc:\\Users\\test\\anaconda3\\envs\\dscb230\\Lib\\site-packages\\requests\\api.py:73\u001B[0m, in \u001B[0;36mget\u001B[1;34m(url, params, **kwargs)\u001B[0m\n\u001B[0;32m     62\u001B[0m \u001B[39mdef\u001B[39;00m \u001B[39mget\u001B[39m(url, params\u001B[39m=\u001B[39m\u001B[39mNone\u001B[39;00m, \u001B[39m*\u001B[39m\u001B[39m*\u001B[39mkwargs):\n\u001B[0;32m     63\u001B[0m \u001B[39m    \u001B[39m\u001B[39mr\u001B[39m\u001B[39m\"\"\"Sends a GET request.\u001B[39;00m\n\u001B[0;32m     64\u001B[0m \n\u001B[0;32m     65\u001B[0m \u001B[39m    :param url: URL for the new :class:`Request` object.\u001B[39;00m\n\u001B[1;32m   (...)\u001B[0m\n\u001B[0;32m     70\u001B[0m \u001B[39m    :rtype: requests.Response\u001B[39;00m\n\u001B[0;32m     71\u001B[0m \u001B[39m    \"\"\"\u001B[39;00m\n\u001B[1;32m---> 73\u001B[0m     \u001B[39mreturn\u001B[39;00m request(\u001B[39m\"\u001B[39m\u001B[39mget\u001B[39m\u001B[39m\"\u001B[39m, url, params\u001B[39m=\u001B[39mparams, \u001B[39m*\u001B[39m\u001B[39m*\u001B[39mkwargs)\n",
      "File \u001B[1;32mc:\\Users\\test\\anaconda3\\envs\\dscb230\\Lib\\site-packages\\requests\\api.py:59\u001B[0m, in \u001B[0;36mrequest\u001B[1;34m(method, url, **kwargs)\u001B[0m\n\u001B[0;32m     55\u001B[0m \u001B[39m# By using the 'with' statement we are sure the session is closed, thus we\u001B[39;00m\n\u001B[0;32m     56\u001B[0m \u001B[39m# avoid leaving sockets open which can trigger a ResourceWarning in some\u001B[39;00m\n\u001B[0;32m     57\u001B[0m \u001B[39m# cases, and look like a memory leak in others.\u001B[39;00m\n\u001B[0;32m     58\u001B[0m \u001B[39mwith\u001B[39;00m sessions\u001B[39m.\u001B[39mSession() \u001B[39mas\u001B[39;00m session:\n\u001B[1;32m---> 59\u001B[0m     \u001B[39mreturn\u001B[39;00m session\u001B[39m.\u001B[39mrequest(method\u001B[39m=\u001B[39mmethod, url\u001B[39m=\u001B[39murl, \u001B[39m*\u001B[39m\u001B[39m*\u001B[39mkwargs)\n",
      "File \u001B[1;32mc:\\Users\\test\\anaconda3\\envs\\dscb230\\Lib\\site-packages\\requests\\sessions.py:589\u001B[0m, in \u001B[0;36mSession.request\u001B[1;34m(self, method, url, params, data, headers, cookies, files, auth, timeout, allow_redirects, proxies, hooks, stream, verify, cert, json)\u001B[0m\n\u001B[0;32m    584\u001B[0m send_kwargs \u001B[39m=\u001B[39m {\n\u001B[0;32m    585\u001B[0m     \u001B[39m\"\u001B[39m\u001B[39mtimeout\u001B[39m\u001B[39m\"\u001B[39m: timeout,\n\u001B[0;32m    586\u001B[0m     \u001B[39m\"\u001B[39m\u001B[39mallow_redirects\u001B[39m\u001B[39m\"\u001B[39m: allow_redirects,\n\u001B[0;32m    587\u001B[0m }\n\u001B[0;32m    588\u001B[0m send_kwargs\u001B[39m.\u001B[39mupdate(settings)\n\u001B[1;32m--> 589\u001B[0m resp \u001B[39m=\u001B[39m \u001B[39mself\u001B[39m\u001B[39m.\u001B[39msend(prep, \u001B[39m*\u001B[39m\u001B[39m*\u001B[39msend_kwargs)\n\u001B[0;32m    591\u001B[0m \u001B[39mreturn\u001B[39;00m resp\n",
      "File \u001B[1;32mc:\\Users\\test\\anaconda3\\envs\\dscb230\\Lib\\site-packages\\requests\\sessions.py:703\u001B[0m, in \u001B[0;36mSession.send\u001B[1;34m(self, request, **kwargs)\u001B[0m\n\u001B[0;32m    700\u001B[0m start \u001B[39m=\u001B[39m preferred_clock()\n\u001B[0;32m    702\u001B[0m \u001B[39m# Send the request\u001B[39;00m\n\u001B[1;32m--> 703\u001B[0m r \u001B[39m=\u001B[39m adapter\u001B[39m.\u001B[39msend(request, \u001B[39m*\u001B[39m\u001B[39m*\u001B[39mkwargs)\n\u001B[0;32m    705\u001B[0m \u001B[39m# Total elapsed time of the request (approximately)\u001B[39;00m\n\u001B[0;32m    706\u001B[0m elapsed \u001B[39m=\u001B[39m preferred_clock() \u001B[39m-\u001B[39m start\n",
      "File \u001B[1;32mc:\\Users\\test\\anaconda3\\envs\\dscb230\\Lib\\site-packages\\requests\\adapters.py:486\u001B[0m, in \u001B[0;36mHTTPAdapter.send\u001B[1;34m(self, request, stream, timeout, verify, cert, proxies)\u001B[0m\n\u001B[0;32m    483\u001B[0m     timeout \u001B[39m=\u001B[39m TimeoutSauce(connect\u001B[39m=\u001B[39mtimeout, read\u001B[39m=\u001B[39mtimeout)\n\u001B[0;32m    485\u001B[0m \u001B[39mtry\u001B[39;00m:\n\u001B[1;32m--> 486\u001B[0m     resp \u001B[39m=\u001B[39m conn\u001B[39m.\u001B[39murlopen(\n\u001B[0;32m    487\u001B[0m         method\u001B[39m=\u001B[39mrequest\u001B[39m.\u001B[39mmethod,\n\u001B[0;32m    488\u001B[0m         url\u001B[39m=\u001B[39murl,\n\u001B[0;32m    489\u001B[0m         body\u001B[39m=\u001B[39mrequest\u001B[39m.\u001B[39mbody,\n\u001B[0;32m    490\u001B[0m         headers\u001B[39m=\u001B[39mrequest\u001B[39m.\u001B[39mheaders,\n\u001B[0;32m    491\u001B[0m         redirect\u001B[39m=\u001B[39m\u001B[39mFalse\u001B[39;00m,\n\u001B[0;32m    492\u001B[0m         assert_same_host\u001B[39m=\u001B[39m\u001B[39mFalse\u001B[39;00m,\n\u001B[0;32m    493\u001B[0m         preload_content\u001B[39m=\u001B[39m\u001B[39mFalse\u001B[39;00m,\n\u001B[0;32m    494\u001B[0m         decode_content\u001B[39m=\u001B[39m\u001B[39mFalse\u001B[39;00m,\n\u001B[0;32m    495\u001B[0m         retries\u001B[39m=\u001B[39m\u001B[39mself\u001B[39m\u001B[39m.\u001B[39mmax_retries,\n\u001B[0;32m    496\u001B[0m         timeout\u001B[39m=\u001B[39mtimeout,\n\u001B[0;32m    497\u001B[0m         chunked\u001B[39m=\u001B[39mchunked,\n\u001B[0;32m    498\u001B[0m     )\n\u001B[0;32m    500\u001B[0m \u001B[39mexcept\u001B[39;00m (ProtocolError, \u001B[39mOSError\u001B[39;00m) \u001B[39mas\u001B[39;00m err:\n\u001B[0;32m    501\u001B[0m     \u001B[39mraise\u001B[39;00m \u001B[39mConnectionError\u001B[39;00m(err, request\u001B[39m=\u001B[39mrequest)\n",
      "File \u001B[1;32mc:\\Users\\test\\anaconda3\\envs\\dscb230\\Lib\\site-packages\\urllib3\\connectionpool.py:714\u001B[0m, in \u001B[0;36mHTTPConnectionPool.urlopen\u001B[1;34m(self, method, url, body, headers, retries, redirect, assert_same_host, timeout, pool_timeout, release_conn, chunked, body_pos, **response_kw)\u001B[0m\n\u001B[0;32m    711\u001B[0m     \u001B[39mself\u001B[39m\u001B[39m.\u001B[39m_prepare_proxy(conn)\n\u001B[0;32m    713\u001B[0m \u001B[39m# Make the request on the httplib connection object.\u001B[39;00m\n\u001B[1;32m--> 714\u001B[0m httplib_response \u001B[39m=\u001B[39m \u001B[39mself\u001B[39m\u001B[39m.\u001B[39m_make_request(\n\u001B[0;32m    715\u001B[0m     conn,\n\u001B[0;32m    716\u001B[0m     method,\n\u001B[0;32m    717\u001B[0m     url,\n\u001B[0;32m    718\u001B[0m     timeout\u001B[39m=\u001B[39mtimeout_obj,\n\u001B[0;32m    719\u001B[0m     body\u001B[39m=\u001B[39mbody,\n\u001B[0;32m    720\u001B[0m     headers\u001B[39m=\u001B[39mheaders,\n\u001B[0;32m    721\u001B[0m     chunked\u001B[39m=\u001B[39mchunked,\n\u001B[0;32m    722\u001B[0m )\n\u001B[0;32m    724\u001B[0m \u001B[39m# If we're going to release the connection in ``finally:``, then\u001B[39;00m\n\u001B[0;32m    725\u001B[0m \u001B[39m# the response doesn't need to know about the connection. Otherwise\u001B[39;00m\n\u001B[0;32m    726\u001B[0m \u001B[39m# it will also try to release it and we'll have a double-release\u001B[39;00m\n\u001B[0;32m    727\u001B[0m \u001B[39m# mess.\u001B[39;00m\n\u001B[0;32m    728\u001B[0m response_conn \u001B[39m=\u001B[39m conn \u001B[39mif\u001B[39;00m \u001B[39mnot\u001B[39;00m release_conn \u001B[39melse\u001B[39;00m \u001B[39mNone\u001B[39;00m\n",
      "File \u001B[1;32mc:\\Users\\test\\anaconda3\\envs\\dscb230\\Lib\\site-packages\\urllib3\\connectionpool.py:403\u001B[0m, in \u001B[0;36mHTTPConnectionPool._make_request\u001B[1;34m(self, conn, method, url, timeout, chunked, **httplib_request_kw)\u001B[0m\n\u001B[0;32m    401\u001B[0m \u001B[39m# Trigger any extra validation we need to do.\u001B[39;00m\n\u001B[0;32m    402\u001B[0m \u001B[39mtry\u001B[39;00m:\n\u001B[1;32m--> 403\u001B[0m     \u001B[39mself\u001B[39m\u001B[39m.\u001B[39m_validate_conn(conn)\n\u001B[0;32m    404\u001B[0m \u001B[39mexcept\u001B[39;00m (SocketTimeout, BaseSSLError) \u001B[39mas\u001B[39;00m e:\n\u001B[0;32m    405\u001B[0m     \u001B[39m# Py2 raises this as a BaseSSLError, Py3 raises it as socket timeout.\u001B[39;00m\n\u001B[0;32m    406\u001B[0m     \u001B[39mself\u001B[39m\u001B[39m.\u001B[39m_raise_timeout(err\u001B[39m=\u001B[39me, url\u001B[39m=\u001B[39murl, timeout_value\u001B[39m=\u001B[39mconn\u001B[39m.\u001B[39mtimeout)\n",
      "File \u001B[1;32mc:\\Users\\test\\anaconda3\\envs\\dscb230\\Lib\\site-packages\\urllib3\\connectionpool.py:1053\u001B[0m, in \u001B[0;36mHTTPSConnectionPool._validate_conn\u001B[1;34m(self, conn)\u001B[0m\n\u001B[0;32m   1051\u001B[0m \u001B[39m# Force connect early to allow us to validate the connection.\u001B[39;00m\n\u001B[0;32m   1052\u001B[0m \u001B[39mif\u001B[39;00m \u001B[39mnot\u001B[39;00m \u001B[39mgetattr\u001B[39m(conn, \u001B[39m\"\u001B[39m\u001B[39msock\u001B[39m\u001B[39m\"\u001B[39m, \u001B[39mNone\u001B[39;00m):  \u001B[39m# AppEngine might not have  `.sock`\u001B[39;00m\n\u001B[1;32m-> 1053\u001B[0m     conn\u001B[39m.\u001B[39mconnect()\n\u001B[0;32m   1055\u001B[0m \u001B[39mif\u001B[39;00m \u001B[39mnot\u001B[39;00m conn\u001B[39m.\u001B[39mis_verified:\n\u001B[0;32m   1056\u001B[0m     warnings\u001B[39m.\u001B[39mwarn(\n\u001B[0;32m   1057\u001B[0m         (\n\u001B[0;32m   1058\u001B[0m             \u001B[39m\"\u001B[39m\u001B[39mUnverified HTTPS request is being made to host \u001B[39m\u001B[39m'\u001B[39m\u001B[39m%s\u001B[39;00m\u001B[39m'\u001B[39m\u001B[39m. \u001B[39m\u001B[39m\"\u001B[39m\n\u001B[1;32m   (...)\u001B[0m\n\u001B[0;32m   1063\u001B[0m         InsecureRequestWarning,\n\u001B[0;32m   1064\u001B[0m     )\n",
      "File \u001B[1;32mc:\\Users\\test\\anaconda3\\envs\\dscb230\\Lib\\site-packages\\urllib3\\connection.py:419\u001B[0m, in \u001B[0;36mHTTPSConnection.connect\u001B[1;34m(self)\u001B[0m\n\u001B[0;32m    410\u001B[0m \u001B[39mif\u001B[39;00m (\n\u001B[0;32m    411\u001B[0m     \u001B[39mnot\u001B[39;00m \u001B[39mself\u001B[39m\u001B[39m.\u001B[39mca_certs\n\u001B[0;32m    412\u001B[0m     \u001B[39mand\u001B[39;00m \u001B[39mnot\u001B[39;00m \u001B[39mself\u001B[39m\u001B[39m.\u001B[39mca_cert_dir\n\u001B[1;32m   (...)\u001B[0m\n\u001B[0;32m    415\u001B[0m     \u001B[39mand\u001B[39;00m \u001B[39mhasattr\u001B[39m(context, \u001B[39m\"\u001B[39m\u001B[39mload_default_certs\u001B[39m\u001B[39m\"\u001B[39m)\n\u001B[0;32m    416\u001B[0m ):\n\u001B[0;32m    417\u001B[0m     context\u001B[39m.\u001B[39mload_default_certs()\n\u001B[1;32m--> 419\u001B[0m \u001B[39mself\u001B[39m\u001B[39m.\u001B[39msock \u001B[39m=\u001B[39m ssl_wrap_socket(\n\u001B[0;32m    420\u001B[0m     sock\u001B[39m=\u001B[39mconn,\n\u001B[0;32m    421\u001B[0m     keyfile\u001B[39m=\u001B[39m\u001B[39mself\u001B[39m\u001B[39m.\u001B[39mkey_file,\n\u001B[0;32m    422\u001B[0m     certfile\u001B[39m=\u001B[39m\u001B[39mself\u001B[39m\u001B[39m.\u001B[39mcert_file,\n\u001B[0;32m    423\u001B[0m     key_password\u001B[39m=\u001B[39m\u001B[39mself\u001B[39m\u001B[39m.\u001B[39mkey_password,\n\u001B[0;32m    424\u001B[0m     ca_certs\u001B[39m=\u001B[39m\u001B[39mself\u001B[39m\u001B[39m.\u001B[39mca_certs,\n\u001B[0;32m    425\u001B[0m     ca_cert_dir\u001B[39m=\u001B[39m\u001B[39mself\u001B[39m\u001B[39m.\u001B[39mca_cert_dir,\n\u001B[0;32m    426\u001B[0m     ca_cert_data\u001B[39m=\u001B[39m\u001B[39mself\u001B[39m\u001B[39m.\u001B[39mca_cert_data,\n\u001B[0;32m    427\u001B[0m     server_hostname\u001B[39m=\u001B[39mserver_hostname,\n\u001B[0;32m    428\u001B[0m     ssl_context\u001B[39m=\u001B[39mcontext,\n\u001B[0;32m    429\u001B[0m     tls_in_tls\u001B[39m=\u001B[39mtls_in_tls,\n\u001B[0;32m    430\u001B[0m )\n\u001B[0;32m    432\u001B[0m \u001B[39m# If we're using all defaults and the connection\u001B[39;00m\n\u001B[0;32m    433\u001B[0m \u001B[39m# is TLSv1 or TLSv1.1 we throw a DeprecationWarning\u001B[39;00m\n\u001B[0;32m    434\u001B[0m \u001B[39m# for the host.\u001B[39;00m\n\u001B[0;32m    435\u001B[0m \u001B[39mif\u001B[39;00m (\n\u001B[0;32m    436\u001B[0m     default_ssl_context\n\u001B[0;32m    437\u001B[0m     \u001B[39mand\u001B[39;00m \u001B[39mself\u001B[39m\u001B[39m.\u001B[39mssl_version \u001B[39mis\u001B[39;00m \u001B[39mNone\u001B[39;00m\n\u001B[0;32m    438\u001B[0m     \u001B[39mand\u001B[39;00m \u001B[39mhasattr\u001B[39m(\u001B[39mself\u001B[39m\u001B[39m.\u001B[39msock, \u001B[39m\"\u001B[39m\u001B[39mversion\u001B[39m\u001B[39m\"\u001B[39m)\n\u001B[0;32m    439\u001B[0m     \u001B[39mand\u001B[39;00m \u001B[39mself\u001B[39m\u001B[39m.\u001B[39msock\u001B[39m.\u001B[39mversion() \u001B[39min\u001B[39;00m {\u001B[39m\"\u001B[39m\u001B[39mTLSv1\u001B[39m\u001B[39m\"\u001B[39m, \u001B[39m\"\u001B[39m\u001B[39mTLSv1.1\u001B[39m\u001B[39m\"\u001B[39m}\n\u001B[0;32m    440\u001B[0m ):\n",
      "File \u001B[1;32mc:\\Users\\test\\anaconda3\\envs\\dscb230\\Lib\\site-packages\\urllib3\\util\\ssl_.py:449\u001B[0m, in \u001B[0;36mssl_wrap_socket\u001B[1;34m(sock, keyfile, certfile, cert_reqs, ca_certs, server_hostname, ssl_version, ciphers, ssl_context, ca_cert_dir, key_password, ca_cert_data, tls_in_tls)\u001B[0m\n\u001B[0;32m    437\u001B[0m     warnings\u001B[39m.\u001B[39mwarn(\n\u001B[0;32m    438\u001B[0m         \u001B[39m\"\u001B[39m\u001B[39mAn HTTPS request has been made, but the SNI (Server Name \u001B[39m\u001B[39m\"\u001B[39m\n\u001B[0;32m    439\u001B[0m         \u001B[39m\"\u001B[39m\u001B[39mIndication) extension to TLS is not available on this platform. \u001B[39m\u001B[39m\"\u001B[39m\n\u001B[1;32m   (...)\u001B[0m\n\u001B[0;32m    445\u001B[0m         SNIMissingWarning,\n\u001B[0;32m    446\u001B[0m     )\n\u001B[0;32m    448\u001B[0m \u001B[39mif\u001B[39;00m send_sni:\n\u001B[1;32m--> 449\u001B[0m     ssl_sock \u001B[39m=\u001B[39m _ssl_wrap_socket_impl(\n\u001B[0;32m    450\u001B[0m         sock, context, tls_in_tls, server_hostname\u001B[39m=\u001B[39mserver_hostname\n\u001B[0;32m    451\u001B[0m     )\n\u001B[0;32m    452\u001B[0m \u001B[39melse\u001B[39;00m:\n\u001B[0;32m    453\u001B[0m     ssl_sock \u001B[39m=\u001B[39m _ssl_wrap_socket_impl(sock, context, tls_in_tls)\n",
      "File \u001B[1;32mc:\\Users\\test\\anaconda3\\envs\\dscb230\\Lib\\site-packages\\urllib3\\util\\ssl_.py:493\u001B[0m, in \u001B[0;36m_ssl_wrap_socket_impl\u001B[1;34m(sock, ssl_context, tls_in_tls, server_hostname)\u001B[0m\n\u001B[0;32m    490\u001B[0m     \u001B[39mreturn\u001B[39;00m SSLTransport(sock, ssl_context, server_hostname)\n\u001B[0;32m    492\u001B[0m \u001B[39mif\u001B[39;00m server_hostname:\n\u001B[1;32m--> 493\u001B[0m     \u001B[39mreturn\u001B[39;00m ssl_context\u001B[39m.\u001B[39mwrap_socket(sock, server_hostname\u001B[39m=\u001B[39mserver_hostname)\n\u001B[0;32m    494\u001B[0m \u001B[39melse\u001B[39;00m:\n\u001B[0;32m    495\u001B[0m     \u001B[39mreturn\u001B[39;00m ssl_context\u001B[39m.\u001B[39mwrap_socket(sock)\n",
      "File \u001B[1;32mc:\\Users\\test\\anaconda3\\envs\\dscb230\\Lib\\ssl.py:517\u001B[0m, in \u001B[0;36mSSLContext.wrap_socket\u001B[1;34m(self, sock, server_side, do_handshake_on_connect, suppress_ragged_eofs, server_hostname, session)\u001B[0m\n\u001B[0;32m    511\u001B[0m \u001B[39mdef\u001B[39;00m \u001B[39mwrap_socket\u001B[39m(\u001B[39mself\u001B[39m, sock, server_side\u001B[39m=\u001B[39m\u001B[39mFalse\u001B[39;00m,\n\u001B[0;32m    512\u001B[0m                 do_handshake_on_connect\u001B[39m=\u001B[39m\u001B[39mTrue\u001B[39;00m,\n\u001B[0;32m    513\u001B[0m                 suppress_ragged_eofs\u001B[39m=\u001B[39m\u001B[39mTrue\u001B[39;00m,\n\u001B[0;32m    514\u001B[0m                 server_hostname\u001B[39m=\u001B[39m\u001B[39mNone\u001B[39;00m, session\u001B[39m=\u001B[39m\u001B[39mNone\u001B[39;00m):\n\u001B[0;32m    515\u001B[0m     \u001B[39m# SSLSocket class handles server_hostname encoding before it calls\u001B[39;00m\n\u001B[0;32m    516\u001B[0m     \u001B[39m# ctx._wrap_socket()\u001B[39;00m\n\u001B[1;32m--> 517\u001B[0m     \u001B[39mreturn\u001B[39;00m \u001B[39mself\u001B[39m\u001B[39m.\u001B[39msslsocket_class\u001B[39m.\u001B[39m_create(\n\u001B[0;32m    518\u001B[0m         sock\u001B[39m=\u001B[39msock,\n\u001B[0;32m    519\u001B[0m         server_side\u001B[39m=\u001B[39mserver_side,\n\u001B[0;32m    520\u001B[0m         do_handshake_on_connect\u001B[39m=\u001B[39mdo_handshake_on_connect,\n\u001B[0;32m    521\u001B[0m         suppress_ragged_eofs\u001B[39m=\u001B[39msuppress_ragged_eofs,\n\u001B[0;32m    522\u001B[0m         server_hostname\u001B[39m=\u001B[39mserver_hostname,\n\u001B[0;32m    523\u001B[0m         context\u001B[39m=\u001B[39m\u001B[39mself\u001B[39m,\n\u001B[0;32m    524\u001B[0m         session\u001B[39m=\u001B[39msession\n\u001B[0;32m    525\u001B[0m     )\n",
      "File \u001B[1;32mc:\\Users\\test\\anaconda3\\envs\\dscb230\\Lib\\ssl.py:1108\u001B[0m, in \u001B[0;36mSSLSocket._create\u001B[1;34m(cls, sock, server_side, do_handshake_on_connect, suppress_ragged_eofs, server_hostname, context, session)\u001B[0m\n\u001B[0;32m   1105\u001B[0m         \u001B[39mif\u001B[39;00m timeout \u001B[39m==\u001B[39m \u001B[39m0.0\u001B[39m:\n\u001B[0;32m   1106\u001B[0m             \u001B[39m# non-blocking\u001B[39;00m\n\u001B[0;32m   1107\u001B[0m             \u001B[39mraise\u001B[39;00m \u001B[39mValueError\u001B[39;00m(\u001B[39m\"\u001B[39m\u001B[39mdo_handshake_on_connect should not be specified for non-blocking sockets\u001B[39m\u001B[39m\"\u001B[39m)\n\u001B[1;32m-> 1108\u001B[0m         \u001B[39mself\u001B[39m\u001B[39m.\u001B[39mdo_handshake()\n\u001B[0;32m   1109\u001B[0m \u001B[39mexcept\u001B[39;00m (\u001B[39mOSError\u001B[39;00m, \u001B[39mValueError\u001B[39;00m):\n\u001B[0;32m   1110\u001B[0m     \u001B[39mself\u001B[39m\u001B[39m.\u001B[39mclose()\n",
      "File \u001B[1;32mc:\\Users\\test\\anaconda3\\envs\\dscb230\\Lib\\ssl.py:1379\u001B[0m, in \u001B[0;36mSSLSocket.do_handshake\u001B[1;34m(self, block)\u001B[0m\n\u001B[0;32m   1377\u001B[0m     \u001B[39mif\u001B[39;00m timeout \u001B[39m==\u001B[39m \u001B[39m0.0\u001B[39m \u001B[39mand\u001B[39;00m block:\n\u001B[0;32m   1378\u001B[0m         \u001B[39mself\u001B[39m\u001B[39m.\u001B[39msettimeout(\u001B[39mNone\u001B[39;00m)\n\u001B[1;32m-> 1379\u001B[0m     \u001B[39mself\u001B[39m\u001B[39m.\u001B[39m_sslobj\u001B[39m.\u001B[39mdo_handshake()\n\u001B[0;32m   1380\u001B[0m \u001B[39mfinally\u001B[39;00m:\n\u001B[0;32m   1381\u001B[0m     \u001B[39mself\u001B[39m\u001B[39m.\u001B[39msettimeout(timeout)\n",
      "\u001B[1;31mKeyboardInterrupt\u001B[0m: "
     ]
    }
   ],
   "source": [
    "import csv\n",
    "import requests\n",
    "import json\n",
    "import os\n",
    "import string\n",
    "\n",
    "#wir iterieren über die Jahre, um unterordner anlegen zu können, und um jedes einmal zu unterschieden\n",
    "for i in range(1):\n",
    "\n",
    "    jahr=1996+i\n",
    "\n",
    "    uebergeordneter_ordner = \"json_datei\"\n",
    "\n",
    "    # Name des zu erstellenden Unterordners\n",
    "    unterordner_name = f\"{jahr}\"\n",
    "\n",
    "    # Erstelle den Pfad zum Unterordner\n",
    "    unterordner_pfad = os.path.join(uebergeordneter_ordner, unterordner_name)\n",
    "\n",
    "    os.makedirs(unterordner_pfad)\n",
    "\n",
    "    # Öffne die CSV-Datei im Lesemodus\n",
    "    with open(f'Billdboard_Top_100_csv/{jahr}.csv','r', encoding='utf8') as csv_file:\n",
    "        csv_reader = csv.reader(csv_file)\n",
    "        #sorgt dafür, dass die erste Zeile der ausgelesenen Datei übersprungen wird\n",
    "        next(csv_reader, None)\n",
    "        #erstellt notwendige Listen\n",
    "        liste_artists=[]\n",
    "        liste_songtitel=[]\n",
    "        liste_platzierung=[]\n",
    "\n",
    "        #füllt die Listen iterierend mit der CSV Datei mit Werten\n",
    "        for row in csv_reader:\n",
    "        \n",
    "            liste_artists.append(row[1])\n",
    "            liste_songtitel.append(row[2])\n",
    "            liste_platzierung.append(row[0])\n",
    "\n",
    "    # Neue Liste, in der nur die Zeichenfolgen vor dem Schlüsselwort erscheinen\n",
    "    schluesselwoerter = [\"feat.\", \"and\",\",\",\"&\",\" X \",\" x \", \":\"]\n",
    "\n",
    "    # Neue Liste, in der nur die Zeichenfolgen vor den Schlüsselwörtern erscheinen\n",
    "    bereinigte_liste_artists = []\n",
    "\n",
    "    for artist in liste_artists:\n",
    "        for schluesselwort in schluesselwoerter:\n",
    "            if schluesselwort in artist:\n",
    "                teil_string = artist.split(schluesselwort)[0].strip()\n",
    "                bereinigte_liste_artists.append(teil_string)\n",
    "                break  # Sobald ein Schlüsselwort gefunden wurde, die Schleife verlassen\n",
    "        else:\n",
    "            bereinigte_liste_artists.append(artist)\n",
    "            \n",
    "    bereinigte_liste_songtitel = []\n",
    "    for songtitel in liste_songtitel:\n",
    "        # Teile den String am Satzzeichen \"/\"\n",
    "        teile = songtitel.split(\"/\")\n",
    "        # Füge den bereinigten Titel zur Liste hinzu\n",
    "        bereinigte_liste_songtitel.append(teile[0])\n",
    "\n",
    "\n",
    "    satzzeichen_zum_ersetzen = [\"?\", '\"', \"/\", \"*\"]\n",
    "    songtitel_zum_dateinamen=[]\n",
    "    for songtitel in bereinigte_liste_songtitel:\n",
    "        # Ersetze Satzzeichen durch einen Unterstrich für jeden Teil des Strings\n",
    "        titel_zum_dateinamen = ''.join(['_' if zeichen in satzzeichen_zum_ersetzen else zeichen for zeichen in songtitel])\n",
    "        songtitel_zum_dateinamen.append(titel_zum_dateinamen)\n",
    "\n",
    "    #API-Abfrage\n",
    "    url = \"https://theaudiodb.p.rapidapi.com/searchtrack.php\"\n",
    "    #Iteriert durch die Länge der erstellten Listen\n",
    "    for x in range(len(liste_songtitel)):\n",
    "\n",
    "        #hier wird gefiltert wonach geschaut wird\n",
    "        querystring = {\"s\": bereinigte_liste_artists[x], \"t\": bereinigte_liste_songtitel[x]}\n",
    "\n",
    "        headers = {\n",
    "            \"X-RapidAPI-Key\": os.getenv(\"API_TOKEN\"),\n",
    "            \"X-RapidAPI-Host\": os.getenv(\"API_HOST\")\n",
    "                }\n",
    "\n",
    "        #es wird die API-Abfrage durchgeführt\n",
    "        response = requests.get(url, headers=headers, params=querystring)\n",
    "\n",
    "       \n",
    "\n",
    "        # Überprüfe, ob die Anfrage erfolgreich war\n",
    "        if response.status_code == 200:\n",
    "        # der Name der json Datei wird festgelegt\n",
    "            json_filename = f\"{titel_zum_dateinamen[x]}.json\"\n",
    "            #der Ordner, in den die Datei gespeichert wird, wird geändert\n",
    "            json_dateipfad=os.path.join(unterordner_pfad, json_filename)\n",
    "            #json Datei wird geschreiben\n",
    "            with open(json_dateipfad, \"w\") as jsonfile:\n",
    "                json.dump(response.json(), jsonfile)\n",
    "    \n",
    "            print(f\"Die Daten wurden in '{json_filename}' als JSON-Datei gespeichert.\")\n",
    "        else:\n",
    "            print(\"Die Anfrage war nicht erfolgreich. Die Daten wurden nicht gespeichert.\")"
   ],
   "id": "a446e32489a9669c"
  },
  {
   "cell_type": "markdown",
   "metadata": {},
   "source": [
    "Damit haben wir nun, die Top 100 für jedes Jahr, sowie Informationen, wie das Genre für die Lieder. Nun fehlen noch die Lyrics für jedes Lied."
   ],
   "id": "8f3ae3709b6eb50e"
  },
  {
   "cell_type": "code",
   "execution_count": 7,
   "metadata": {},
   "outputs": [
    {
     "name": "stdout",
     "output_type": "stream",
     "text": [
      "Requirement already satisfied: lyricsgenius in c:\\users\\test\\anaconda3\\envs\\dscb230\\lib\\site-packages (3.0.1)\n",
      "Requirement already satisfied: beautifulsoup4>=4.6.0 in c:\\users\\test\\anaconda3\\envs\\dscb230\\lib\\site-packages (from lyricsgenius) (4.12.2)\n",
      "Requirement already satisfied: requests>=2.20.0 in c:\\users\\test\\anaconda3\\envs\\dscb230\\lib\\site-packages (from lyricsgenius) (2.31.0)\n",
      "Requirement already satisfied: soupsieve>1.2 in c:\\users\\test\\anaconda3\\envs\\dscb230\\lib\\site-packages (from beautifulsoup4>=4.6.0->lyricsgenius) (2.4)\n",
      "Requirement already satisfied: charset-normalizer<4,>=2 in c:\\users\\test\\anaconda3\\envs\\dscb230\\lib\\site-packages (from requests>=2.20.0->lyricsgenius) (2.0.4)\n",
      "Requirement already satisfied: idna<4,>=2.5 in c:\\users\\test\\anaconda3\\envs\\dscb230\\lib\\site-packages (from requests>=2.20.0->lyricsgenius) (3.4)\n",
      "Requirement already satisfied: urllib3<3,>=1.21.1 in c:\\users\\test\\anaconda3\\envs\\dscb230\\lib\\site-packages (from requests>=2.20.0->lyricsgenius) (1.26.16)\n",
      "Requirement already satisfied: certifi>=2017.4.17 in c:\\users\\test\\anaconda3\\envs\\dscb230\\lib\\site-packages (from requests>=2.20.0->lyricsgenius) (2023.7.22)\n"
     ]
    }
   ],
   "source": [
    "#achte darauf, wenn der Titel beispielweise: Follow You Down / Til I Hear It From You ist, ist nur der erste teil in der Datenbank aufgeführt, also Follow You Down\n",
    "#du musst das Jahr 1996 nochmal durchspielen und den Rest siehst du dann halt mal, was man noch ändern muss\n",
    "\n",
    "!pip install lyricsgenius\n",
    "#wir installieren hier das lyricsgenius package\n",
    "#Quelle: https://pypi.org/project/lyricsgenius/ (zuletzt aufgerufen: 20.11.2023 15:07)"
   ],
   "id": "8e251c2b40c32879"
  },
  {
   "cell_type": "code",
   "execution_count": null,
   "metadata": {},
   "outputs": [],
   "source": [
    "import lyricsgenius\n",
    "import csv\n",
    "import os\n",
    "\n",
    "token=os.getenv(\"API_TOKEN_LYRICS\")\n",
    "genius = lyricsgenius.Genius(token)\n",
    "\n",
    "os.makedirs(\"lyrics\")\n",
    "\n",
    "#wir iterieren über die Jahre, um unterordner anlegen zu können, und um jedes einmal zu unterschieden\n",
    "for i in range(32):\n",
    "\n",
    "    jahr=1990+i\n",
    "\n",
    "    #Öffne die CSV-Datei im Lesemodus\n",
    "    with open(f'Billdboard_Top_100_csv/{jahr}.csv','r', encoding='utf8') as csv_file:\n",
    "        csv_reader = csv.reader(csv_file)\n",
    "        #sorgt dafür, dass die erste Zeile der ausgelesenen Datei übersprungen wird\n",
    "        next(csv_reader, None)\n",
    "        #erstellt notwendige Listen\n",
    "        liste_artists=[]\n",
    "        liste_songtitel=[]\n",
    "        liste_platzierung=[]\n",
    "\n",
    "        #füllt die Listen iterierend mit der CSV Datei mit Werten\n",
    "        for row in csv_reader:\n",
    "        \n",
    "            liste_artists.append(row[1])\n",
    "            liste_songtitel.append(row[2])\n",
    "            liste_platzierung.append(row[0])\n",
    "        \n",
    "        # Neue Liste, in der nur die Zeichenfolgen vor dem Schlüsselwort erscheinen\n",
    "    schluesselwoerter = [\"feat.\", \"and\",\",\",\"&\",\" X \",\" x \", \":\"]\n",
    "\n",
    "    # Neue Liste, in der nur die Zeichenfolgen vor den Schlüsselwörtern erscheinen\n",
    "    bereinigte_liste_artists = []\n",
    "\n",
    "    for artist in liste_artists:\n",
    "        for schluesselwort in schluesselwoerter:\n",
    "            if schluesselwort in artist:\n",
    "                teil_string = artist.split(schluesselwort)[0].strip()\n",
    "                bereinigte_liste_artists.append(teil_string)\n",
    "                break  # Sobald ein Schlüsselwort gefunden wurde, die Schleife verlassen\n",
    "        else:\n",
    "            bereinigte_liste_artists.append(artist)\n",
    "\n",
    "    with open(f\"lyrics/{jahr}_lyrics.txt\", \"a\", encoding=\"utf-8\") as file:\n",
    "        for i in range(len(liste_songtitel)):\n",
    "            song = genius.search_song(liste_songtitel[i], bereinigte_liste_artists[i])\n",
    "            file.write(song.lyrics + \"\\n\\n\")"
   ],
   "id": "3c36d8aab2335489"
  },
  {
   "cell_type": "markdown",
   "id": "daade781-3ee5-43d2-8525-ad8d6c7dd808",
   "metadata": {},
   "source": [
    "### Datenmodellierung"
   ]
  },
  {
   "cell_type": "markdown",
   "id": "b7645e80-dc46-4786-b5b4-3d5e71b4c10e",
   "metadata": {},
   "source": [
    "Um Fehlerbearbeitung zu gewährleisten, werden die Dateien in der AudioDB-Abfrage gesucht, welche kein Ergebnis in der Abfrage hatten und es wird einzeln betrachtet, was der Fehler bei der Abfrage war. ZUdem wird eine einzelne Abfrage ausgeführt, um die Dateien zu vervollständigen."
   ]
  },
  {
   "cell_type": "code",
   "execution_count": 25,
   "metadata": {},
   "outputs": [
    {
     "name": "stdout",
     "output_type": "stream",
     "text": [
      "['Here and Now', 'Girls Nite Out', 'What Kind Of? Man Would I Be?', 'Get Up! (Before The Night Is Over)', 'Love Shack', \"C'mon And Get My Love\", \"We Can't Go Wrong\", 'Jerk Out', 'Whole Wide World', 'Swing The Mood', 'Mentirosa', 'Tic-Tac-Toe', 'The First Time', 'Baby, Baby', 'Do Anything', 'Here We Go', 'Summertime', 'P.A.S.S.I.O.N.', 'Power Of Love (Love Power)', \"Tom's Diner\", 'Temptation', '3 A.M. Eternal', 'Saideness Part I', \"I'll Be There\", 'Cream', 'Now That We Found Love', 'Wicked Game', 'Round And Round', 'Real Real Real', 'Come and Talk To Me', 'Tell Me What You Want Me To Do', 'The Best Things In Life Are Free', 'Stay', '2 Legit 2 Quit', \"Please Don't Go\", \"Breakin' My Heart (Pretty Brown Eyes)\", 'Wishing On A Star', 'How Do You Talk To An Angel', 'Beauty And The Beast', 'No Son Of Nine', 'Wildside', \"Friday I'm In Love\", 'Rhythm Is A Dancer', 'Addams Groove', 'Have You Ever Needed Somone So Bad', 'Justified And Ancient', 'Would I Lie To You?', 'Rump Shaker', 'In The Still Of The Nite', 'Dazzey Duks', 'Love Is', \"I'll Never Get Over You (Getting Over Me)\", 'Ditty', 'Rhythm Is A Dancer', \"I'm Gonna Be (500 Miles)\", 'Right Here (Human Nature)-Downtown', 'Saving Forever For You', 'Comforter', \"What's Up\", 'Here We Go Again!', 'The Right Kind Of Love', 'Boom! Shake The Room', 'How Do You Talk To An Angel', 'Stay (I Missed You)', 'All For Love', 'Wild Night', 'Without You / Never Forget You', 'The Most Beautiful Girl In The World', 'Any Time, Any Place / And On And On', 'Said I Loved You...But I Lied', 'Because The Night', 'Cantaloop', 'Linger', 'Gin And Juice', 'Endless Love', \"Who Am I (What's My Name?)\", \"Mary Jane's Last Dance\", 'Got Me Waiting', 'December 1963 (Oh, What A Night)', \"I'll Take You There\", 'I Wanna Be Down', \"Don't Take It Personal (Just One Of Dem Days)\", 'Boombastic / In The Summertime', 'Hold My Hand', 'One More Chance-Stay With Me', 'Let Her Cry', 'Only Wanna Be With You', 'Baby', \"He's Mine\", \"I'll Be There For You-You're All I Need To Get By\", 'Big Poppa / Warning', 'I Wanna Be Down', 'Dear Mama / Old School', 'Scream / Childhood', \"You Want This / 70's Love Groove\", \"Can't You See\", \"This Lil' Game We Play\", 'Brokenhearted', 'Ask Of You', \"'Til You Do Me Right\", 'Like The Way I Do-If I Wanted To', 'Dream About You-Funky Melody', 'I Miss You', 'Best Friend', 'Nobody Knows', 'Tha Crossroads', \"You're Makin' Me High / Let It Flow\", 'Follow You Down / Til I Hear It From You', \"Sittin' Up In My Room\", 'How Do U Want It / California Love', 'You Learn / You Oughta Know', 'Only You', 'Before You Walk Out Of My Life / Like This And Like That', \"1, 2, 3, 4 (Sumpin' New)\", 'No Diggity', '1979', \"Why I Love You So Much / Ain't Nobody\", 'Time', 'Woo-hah!! Got You All In Check / Everything Remains Raw', 'Elevators (Me and You)', 'Theme From Mission: Impossible', 'Old Man and Me (When I Get To Heaven)', 'Set U Free', 'No One Else', 'My Boo', 'Po Pimp', 'I Got Id / Long Road', 'Only Wanna Be With You', 'Candle In The Wind 1997 / Something About The Way You Look Tonight', 'Foolish Games / You Were Meant For Me', 'Mo Money Mo Problems', 'The Freshmen', 'Hypnotize', '4 Seasons Of Loneliness', \"Da' Dip\", 'Ooh Aah... Just A Little Bit', 'Look Into My Eyes', 'I Finally Found Someone', 'Up Jumps Da Boogie', \"I Don't Want To / I Love Me Some Him\", 'My Baby Daddy', 'ESPN Presents The Jock Jam', 'What About Us', 'On and On', 'Go The Distance', \"When You're Gone / Free To Decide\", 'I Like It', \"You're Makin' Me High / Let It Flow\", 'The Boy Is Mine', 'Together Again', 'All My Life', 'Candle In The Wind 1997 / Something About The Way You Look Tonight', 'Nice and Slow', 'No, No, No', 'Body Bumpin (Yippie-Yi-Yo)', \"Let's Ride\", 'What You Want', 'Deja Vu (Uptown Baby)', 'I Want You Back', \"Make Em' Say Uhh!\", 'Make It Hot', 'I Get Lonely', 'Say It', 'Romeo And Juliet', 'Swing My Way', \"Lookin' At Me\", 'I Got The Hook Up!', 'Victory', 'Ghetto Supastar (That Is What You Are)', 'Turn It Up [Remix] / Fire It Up', 'Money, Power and Respect', 'Bitter Sweet Symphony', 'Foolish Games / You Were Meant For Me', 'Heaven', 'The Party Continues', 'Sock It 2 Me', '4 Seasons Of Loneliness', 'Where My Girls At?', 'Have You Ever?', 'Fortunate', 'Summer Girls', '(God Must Have Spent) A Little More Time On You', \"Tell Me It's Real\", 'Back 2 Good', 'You', \"If You (Lovin' Me)\", 'Spend My Life With You', 'Back That Thang Up', \"Almost Doesn't Count\", 'Faded Pictures', 'Ghetto Cowboy', 'Take Me There', 'Music Of My Heart', \"Jumpin Jumpin'\", 'There You Go', \"Doesn't Really Matter\", 'Bye Bye Bye', \"It's Gonna Be Me\", '(Hot S**T) Country Grammar', 'Come On Over Baby (All I Want Is You)', 'All The Small Things', 'Most Girls', 'Give Me Just One Night (Una Noche )', 'Purest Of Pain (A Puro Dolor)', 'Forget About Dre', \"Don't Think I'm Not\", 'Girl On TV', 'Bounce With Me', 'Independent Women Part I', 'All For You', 'Drops Of Jupiter (Tell Me)', 'Independent Women Part I', 'Where The Party At', 'Peaches and Cream', 'What Would You Do?', 'Lady Marmalade', 'Get Ur Freak On', 'Crazy', 'Someone To Call My Lover', 'This I Promise You', 'Superwoman Pt. II', 'One Minute Man', 'The Space Between', \"Ain't Nothing `Bout You\", 'My Baby', 'Contagious', 'Music', 'Most Girls', 'Oochie Wally', 'Wherever You Will Go', \"What's Luv?\", 'I Need a Girl (Part One)', 'I Need a Girl (Part Two)', 'Hero', 'Get the Party Started', 'Hero', 'Heaven', 'Girlfriend', \"Don't Let Me Get Me\", 'Just Like a Pill', 'Down 4 U', \"Cleanin' out my Closet\", 'Halfcrazy', 'Lights, Camera, Action!', 'Work It', 'Hello Good', 'Pass the Courvoisier Part II', 'What About Us?', 'Rainy Dayz', 'If I could Go!', 'Gone', \"We Thuggin'\", 'Full Moon', 'Get Low', 'Shake Ya Tailfeather', 'I Know What You Want', 'Magic Stick', 'Where Is The Love?', \"Frontin'\", 'Work It', \"'03 Bonnie And Clyde\", 'Never Leave You - Uh Ooh, Uh Oooh!', 'Gossip Folks', \"Why Don't You And I\", 'My Love is Like... Wo', 'Angel', 'The Jump Off', 'Thugz Mansion', 'Red Dirt Road', 'I Want You']\n",
      "['Luther Vandross', 'Tyler Collins', 'Chicago', 'Technotronic', 'B-52s', 'D-Mob With Cathy Dennis', 'Cover Girls', 'Time', \"A'me Lorain\", 'Jive Bunny and The Master Mixers', 'Mellow Man Ace', 'Kyper', 'Surface', 'Amy Grant', 'Natural Selection', 'C+C Music Factory', 'D.J. Jazzy Jeff and The Fresh Prince', 'Rhythm Syndicate', 'Luther Vandross', 'DMA', 'Corina', 'KLF', 'Enigrna', 'Escape Club', 'Prince And The N.P.G.', 'Heavy D. and The Boyz', 'Chris Issak', 'Tevin Campbell', 'Jesus Jones', 'Jodeci', 'Teven Campbell', 'Luther Vandross and Janet Jackson', \"Shakespear's Sister\", 'Hammer', 'K.W.S.', 'Mint Condition', 'Cover Girls', 'Heights', 'Calms Dion And Peabo Bryson', 'Genesis', 'Marky Mark And The Funky Bunch', 'Cure', 'Snap', 'Hammer', 'Def Leppard', 'KLF', 'Charles and Eddie', 'Wreckx-N-Effect', 'Boyz II Men', 'Duice', 'Vanessa Willlams and Brian Mcknight', 'Expose', 'Paperboy', 'Snap', 'Proclaimers', 'SWV', 'Shanice', 'Shil', '4 Non Blondes', 'Portrait', 'Jeremy Jordan', 'Jazzy Jeff and Fresh Prince', 'Heights', 'Lisa Loeb and Nine Stories', 'Bryan Adams, Rod Stewart and Sting', \"John Mellencamp and Me'shell Ndegeocello\", 'Mariah Carey', 'Artist Formerly Known As Prince', 'Janet Jackson', 'Michael Bolton', '10,000 Maniacs', 'US3', 'Cranberries', 'Snoop Doggy Dogg', 'Luther Vandross and Mariah Carey', 'Snoop Doggy Dogg', 'Tom Petty and The Heartbreakers', 'Heavy D and The Boyz', 'Four Seasons', 'General Public', 'Brandy', 'Monica', 'Shaggy', 'Hootie and The Blowfish', 'Notorious B.I.G.', 'Hootie and The Blowfish', 'Hootie and The Blowfish', 'Brandy', 'Mokenstef', 'Method Man-Mary J. Blige', 'Notorious B.I.G.', 'Brandy', '2Pac', 'Michael Jackson and Janet Jackson', 'Janet Jackson', 'Total', 'Subway', 'Brandy', 'Raphael Saadiq', 'After 7', 'Melissa Etheridge', 'Stevie B', 'N II U', 'Brandy', 'Tony Rich Project', 'Bone Thugs-N-Harmony', 'Toni Braxton', 'Gin Blossoms', 'Brandy', '2Pac', 'Alanis Morissette', '112 feat. The Notorious B.I.G.', 'Monica', 'Coolio', 'BLACKstreet (feat. Dr. Dre)', 'Smashing Pumpkins', 'Monica', 'Hootie and The Blowfish', 'Busta Rhymes', 'Outkast', 'Adam Clayton and Larry Mullen', 'Hootie and The Blowfish', 'Planet Soul', 'Total', \"Ghost Town Dj's\", 'Do Or Die', 'Pearl Jam', 'Hootie and The Blowfish', 'Elton John', 'Jewel', 'Notorious B.I.G.', 'Verve Pipe', 'Notorious B.I.G.', 'Boyz II Men', 'Freaknasty', 'Gina G', 'Bone Thugs-N-Harmony', 'Barbra Streisand and Bryan Adams', 'Magoo And Timbaland', 'Toni Braxton', 'B-Rock and The Bizz', 'Various Artists', 'Total', 'Erykah Badu', 'Michael Bolton', 'Cranberries', 'Blackout Allstars', 'Toni Braxton', 'Brandy and Monica', 'Janet', 'K-Ci and JoJo', 'Elton John', 'Usher', \"Destiny's Child\", 'Public Announcement', 'Montell Jordan', 'Mase', 'Lord Tariq and Peter Gunz', \"'N Sync\", 'Master P', 'Nicole feat. Missy \"Misdemeanor\" Elliott and Mocha', 'Janet', 'Voices Of Theory', 'Sylk-E Fyne', 'K.P. and Envyi', 'Mase', 'Master P', 'Puff Daddy and The Family', \"Pras Feat. Ol' Dirty Bastard and Mya\", 'Busta Rhymes', 'Lox', 'Verve', 'Jewel', 'Nu Flavor', 'Jd', 'Missy \"Misdemeanor\" Elliott feat. Da Brat', 'Boyz II Men', '702', 'Brandy', 'Maxwell', 'LFO', \"'N Sync\", 'K-Ci and JoJo', 'Matchbox 20', 'Jesse Powell', 'Silk', 'Eric Benet feat. Tamia', \"Juvenile feat. Mannie Fresh and Lil' Wayne\", 'Brandy', 'Case and Joe', 'Mo Thugs Family feat. Bone Thugs-N-Harmony', 'BLACKstreet and Mya feat. Mase and Blinky Blink', \"'N Sync and Gloria Estefan\", \"Destiny's Child\", 'Pink', 'Janet', \"'N Sync\", \"'N Sync\", 'Nelly', 'Christina Aguilera', 'Blink 182', 'Pink', '98 Degrees', 'Son By Four', 'Dr. Dre feat. Eminem', 'Kandi', 'LFO', 'Lil Bow Wow feat. Xscape', \"Destiny's Child\", 'Janet', 'Train', \"Destiny's Child\", 'Jagged Edge With Nelly', '112', 'City High', \"Christina Aguilera, Lil' Kim, Mya and Pink\", 'Missy \"Misdemeanor\" Elliott', 'K-Ci and JoJo', 'Janet', \"'N Sync\", \"Lil' Mo feat. Fabolous\", 'Missy \"Misdemeanor\" Elliott', 'Dave Matthews Band', 'Brooks and Dunn', \"Lil' Romeo\", 'Isley Brothers feat. Ronald Isley AKA Mr. Biggs', 'Erick Sermon feat. Marvin Gaye', 'Pink', \"QB's Finest feat. Nas and Braveheart's\", 'Calling', 'Fat Joe feat. Ashanti', 'P. Diddy feat. Usher and Loon', 'P. Diddy and Ginuwine feat. Loon, Mario Winans and Tammy Ruggeri', 'Enrique Iglesias', 'Pink', 'Chad Kroeger feat. Josey Scott', 'DJ Sammy and Yanou feat. Do', \"'N Sync feat. Nelly\", 'Pink', 'Pink', 'Irv Gotti Presents The Inc. feat. Ja Rule, Ashanti, Charli Baltimore and Vita', 'Eminem', 'Musiq', 'Mr. Cheeks', 'Missy \"Misdemeanor\" Elliott', 'No Doubt', 'Busta Rhymes feat. P. Diddy and Pharrell', 'Brandy', 'Mary J. Blige feat. Ja Rule', \"Angie Martinez feat. Lil' Mo and Sacario\", \"'N Sync\", 'Fat Joe feat. R. Kelly', 'Brandy', 'Lil Jon and The East Side Boyz feat. Ying Yang Twins', 'Nelly, P. Diddy and Murphy Lee', 'Busta Rhymes and Mariah Carey feat. The Flipmode Squad', \"Lil' Kim feat. 50 Cent\", 'Black Eyed Peas', 'Pharrell feat. Jay-Z', 'Missy \"Misdemeanor\" Elliott', 'Jay-Z feat. Beyonce Knowles', 'Lumidee', 'Missy \"Misdemeanor\" Elliott feat. Ludacris', 'Santana feat. Alex Band Or Chad Kroeger', 'Mya', 'Amanda Perez', \"Lil' Kim feat. Mr. Cheeks\", '2Pac', 'Brooks and Dunn', 'Thalia feat. Fat Joe']\n",
      "270\n"
     ]
    }
   ],
   "source": [
    "import csv\n",
    "import os\n",
    "import json\n",
    "\n",
    "#leere Liste für die leeren JSON-Dateien wird erstellt\n",
    "leere_lieder=[]\n",
    "leere_artists=[]\n",
    "leere_platzierung=[]\n",
    "\n",
    "for i in range(14):\n",
    "\n",
    "    jahr=1990+i\n",
    "    # Öffne die CSV-Datei im Lesemodus\n",
    "    with open(f'Billdboard_Top_100_csv/{jahr}.csv','r', encoding='utf8') as csv_file:\n",
    "        csv_reader = csv.reader(csv_file)\n",
    "        #sorgt dafür, dass die erste Zeile der ausgelesenen Datei übersprungen wird\n",
    "        next(csv_reader, None)\n",
    "        #erstellt notwendige Listen\n",
    "        liste_artists=[]\n",
    "        liste_songtitel=[]\n",
    "        liste_platzierung=[]\n",
    "\n",
    "        #füllt die Listen iterierend mit der CSV Datei mit Werten\n",
    "        for row in csv_reader:\n",
    "        \n",
    "            liste_artists.append(row[1])\n",
    "            liste_songtitel.append(row[2])\n",
    "            liste_platzierung.append(row[0])\n",
    "\n",
    "    # Satzzeichen, die ersetzt werden sollen\n",
    "    satzzeichen_zum_ersetzen = [\"?\",'\"',\"/\",\"*\"]\n",
    "    bereinigte_liste_songtitel=[]\n",
    "    for songtitel in liste_songtitel:\n",
    "        # Ersetze Satzzeichen durch einen Unterstrich\n",
    "        bereinigter_titel = ''.join(['_' if zeichen in satzzeichen_zum_ersetzen else zeichen for zeichen in songtitel])\n",
    "        bereinigte_liste_songtitel.append(bereinigter_titel)\n",
    "\n",
    "    for x in liste_platzierung:\n",
    "\n",
    "        unterordner_name = f\"json_datei\\\\{jahr}\"\n",
    "        x=int(x)-1\n",
    "\n",
    "        # Erstelle den Pfad zum Unterordner\n",
    "        unterordner_pfad = os.path.join(os.getcwd(), unterordner_name)\n",
    "\n",
    "        \n",
    "        # Dateiname mit Erweiterung\n",
    "        json_filename = f\"{bereinigte_liste_songtitel[x]}.json\"\n",
    "\n",
    "        # Erstelle den vollen Pfad zur JSON-Datei\n",
    "        json_dateipfad = os.path.join(unterordner_pfad, json_filename)\n",
    "\n",
    "        # Öffne die JSON-Datei im Lesemodus\n",
    "        with open(json_dateipfad, \"r\") as json_file:\n",
    "            data = json.load(json_file)\n",
    "\n",
    "        #überprüfen, ob die Json-Datei leer ist\n",
    "        if data[\"track\"] == None:\n",
    "            leere_lieder.append(liste_songtitel[x])\n",
    "            leere_artists.append(liste_artists[x])\n",
    "            leere_platzierung.append(liste_platzierung[x])\n",
    "        \n",
    "print(leere_lieder)\n",
    "print(leere_artists)\n",
    "print(len(leere_platzierung))"
   ],
   "id": "a6b8487d5f20a26d"
  },
  {
   "cell_type": "markdown",
   "metadata": {},
   "source": [
    "Nun werden einzelne Listen mit der Häufigkeit der Genre pro Jahr betrachtet.\n",
    "Zudem wird eine zweite Liste erstellt, mit derer Hilfe wir die Gewichtung der einzelnen Genre pro Jahr beobachten, indem den einzeln auftretenden Genre eine Gewichtung, nämich die Platzierung, gegeben wird."
   ],
   "id": "62d7144bf29bf956"
  },
  {
   "cell_type": "markdown",
   "metadata": {},
   "source": [
    "Wir betrachten nun die Lyrics genauer und reinigen diese erst einmal."
   ],
   "id": "6b8ec79af2be602"
  },
  {
   "cell_type": "markdown",
   "id": "1e772dce-8c8f-4abe-a6fc-387078a3af1e",
   "metadata": {},
   "source": [
    "### Datenvisualisierung"
   ]
  },
  {
   "cell_type": "markdown",
   "id": "741bd52d-6562-4a52-8e5b-01a38ee3ff57",
   "metadata": {},
   "source": []
  },
  {
   "cell_type": "markdown",
   "id": "2899c25b-ea8e-4a36-be86-b9dc9368f6b3",
   "metadata": {},
   "source": [
    "## Lessons Learned"
   ]
  },
  {
   "cell_type": "markdown",
   "id": "d837f8ba-d9a8-49ad-ac08-9193d186798f",
   "metadata": {},
   "source": []
  }
 ],
 "metadata": {
  "kernelspec": {
   "display_name": "Python 3 (ipykernel)",
   "language": "python",
   "name": "python3"
  },
  "language_info": {
   "codemirror_mode": {
    "name": "ipython",
    "version": 3
   },
   "file_extension": ".py",
   "mimetype": "text/x-python",
   "name": "python",
   "nbconvert_exporter": "python",
   "pygments_lexer": "ipython3",
   "version": "3.11.5"
  },
  "toc-autonumbering": false,
  "toc-showmarkdowntxt": false
 },
 "nbformat": 4,
 "nbformat_minor": 5
}
